{
 "cells": [
  {
   "cell_type": "code",
   "execution_count": 1,
   "metadata": {},
   "outputs": [],
   "source": [
    "import os\n",
    "import re"
   ]
  },
  {
   "cell_type": "code",
   "execution_count": 2,
   "metadata": {},
   "outputs": [],
   "source": [
    "testpath = \"/home/admin1/all/DeepEIoU/DeepEIoU/tools/tracking/test\"\n",
    "playertestgtpath = \"/home/admin1/all/DeepEIoU/DeepEIoU/tools/playersgt\"\n",
    "for folder in sorted(os.listdir(testpath)):\n",
    "    folderpath = os.path.join(testpath,folder)\n",
    "    gtpath = os.path.join(folderpath,'gt')\n",
    "    gtfile = os.path.join(gtpath,'gt.txt')\n",
    "    gameinfopath = os.path.join(folderpath,'gameinfo.ini')\n",
    "    playerfolderpath = os.path.join(playertestgtpath,folder)\n",
    "    \n",
    "    if not os.path.exists(playerfolderpath):\n",
    "        os.mkdir(playerfolderpath)\n",
    "    playergtfolderpath = os.path.join(playerfolderpath,'gt')\n",
    "    \n",
    "    if not os.path.exists(playergtfolderpath):\n",
    "        os.mkdir(playergtfolderpath)\n",
    "    \n",
    "    playergtfile = os.path.join(playergtfolderpath,'gt.txt')\n",
    "    \n",
    "    with open(gameinfopath) as f:\n",
    "        gameinfo = f.read()\n",
    "        balllines = re.findall(\"trackletID.*= ball\",gameinfo)  \n",
    "        pattern = re.compile(r'\\d+')\n",
    "        ballids = [int(pattern.findall(s)[0]) for s in balllines]\n",
    "\n",
    "    with open(gtfile) as f:\n",
    "        gt = f.readlines()\n",
    "    \n",
    "    with open(playergtfile,'w') as f:\n",
    "        for detection in gt:\n",
    "            detection = detection.strip().split(',')\n",
    "            frame_id = int(detection[0])\n",
    "            track_id = int(detection[1])\n",
    "    \n",
    "            if track_id in ballids:\n",
    "                continue\n",
    "            f.write(','.join(detection)+'\\n')\n",
    "    sequence = os.path.join(folderpath,'seqinfo.ini')\n",
    "    newseqience = os.path.join(playerfolderpath,'seqinfo.ini')\n",
    "    os.system(f\"cp {sequence} {newseqience}\")\n"
   ]
  }
 ],
 "metadata": {
  "kernelspec": {
   "display_name": "grad",
   "language": "python",
   "name": "python3"
  },
  "language_info": {
   "codemirror_mode": {
    "name": "ipython",
    "version": 3
   },
   "file_extension": ".py",
   "mimetype": "text/x-python",
   "name": "python",
   "nbconvert_exporter": "python",
   "pygments_lexer": "ipython3",
   "version": "3.11.8"
  }
 },
 "nbformat": 4,
 "nbformat_minor": 2
}
